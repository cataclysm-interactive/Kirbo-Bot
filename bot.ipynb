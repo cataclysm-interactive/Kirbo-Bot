{
 "cells": [
  {
   "cell_type": "markdown",
   "metadata": {},
   "source": [
    "# Kirbo Bot\n",
    "---\n",
    "Written, and developed by cataclysm-interactive.\n",
    "Kirbo uses the following libraries."
   ]
  },
  {
   "cell_type": "code",
   "execution_count": 8,
   "metadata": {},
   "outputs": [],
   "source": [
    "from ctypes import util\n",
    "import json\n",
    "import os\n",
    "import ast\n",
    "import re\n",
    "from warnings import resetwarnings\n",
    "from discord import colour, embeds, member, user\n",
    "from discord.ext.commands.converter import MemberConverter\n",
    "import requests\n",
    "import discord\n",
    "import random\n",
    "import asyncio\n",
    "from dotenv import load_dotenv\n",
    "from discord.ext import commands\n",
    "from discord import Color\n",
    "from datetime import datetime, timedelta\n",
    "from datetime import date\n",
    "from discord.utils import get\n",
    "from requests import api\n",
    "from requests.models import Response\n",
    "\n",
    "VERSION = 'V0.1.7 Factions'"
   ]
  },
  {
   "cell_type": "markdown",
   "metadata": {},
   "source": [
    "## What is this?\n",
    "---\n",
    "This is a Jupyter notebook that shows how Kirbo was developed, and serves as a sort of documentation for the bot.\n",
    "\n",
    "!!PLEASE NOTE!!\n",
    "\n",
    "Running the code in this notebook WILL NOT work! Since it's a discord bot, that tries to run forever, and the notebook cuts it off after the last line is executed. aka: no, this notebook is not a bot in a book.\n",
    "\n",
    "### What does Kirbo do?\n",
    "---\n",
    "Kirbo does a few different things. \n",
    "1. Kirbo has a few moderation commands, most notably mute.\n",
    "2. Kirbo has an income system that allows people to collect and spend a virtual currency"
   ]
  },
  {
   "cell_type": "markdown",
   "metadata": {},
   "source": [
    "## Enough blabbing, Let's see your code!\n",
    "---\n",
    "Ok fine.\n",
    "First, lets initalize the variables that are used in Kirbo's main operations.\n",
    "Kirbo starts by getting the tokens and ID's that are used to connect to Discord, and the CataclysmAPI.\n",
    "It also sets the bot's status to \"Listening to Army Gang\""
   ]
  },
  {
   "cell_type": "code",
   "execution_count": 9,
   "metadata": {},
   "outputs": [],
   "source": [
    "load_dotenv()\n",
    "TOKEN = os.getenv('DISCORD_TOKEN')\n",
    "GUILD = os.getenv('DISCORD_GUILD')\n",
    "PINK = Color.from_rgb(255,185,209)\n",
    "\n",
    "\n",
    "USER_URL=\"https://cataclysmapi20211218110154.azurewebsites.net/api/users\"\n",
    "\n",
    "FACTION_URL=\"https://cataclysmapi20211218110154.azurewebsites.net/api/factions\"\n",
    "\n",
    "intents = discord.Intents.default()\n",
    "intents.members = True\n",
    "bot = commands.Bot(command_prefix=',',intents=intents,activity=discord.Activity(type=discord.ActivityType.listening, name='Army Gang!'))\n",
    "bot.titan=None"
   ]
  },
  {
   "cell_type": "markdown",
   "metadata": {},
   "source": [
    "## Helper Functions\n",
    "---\n",
    "Next, we have a few helper functions I made to help with a few things. (duh)\n",
    "\n",
    "on_ready() is a the function that is called once the bot has actually connected to discord. It also sets two bot variables, one is a user ID so the bot can DM me. The other is the admin chat in Army Gang so that the bot can send messages there.\n",
    "\n",
    "getAllUsers() Does exactly what it sounds like it does. It gets all the registered users from the CataclysmAPI.\n",
    "\n",
    "getUserData(id) gets a certain user from the CataclysmAPI using the user's discord ID.\n",
    "\n",
    "getAllFactions() gets all the factions from the CataclysmAPI\n",
    "\n",
    "getUserFaction(id) gets a certain user's faction using the user's ID.\n",
    "\n",
    "updateFaction(faction) sends an updated faction to the CataclysmAPI.\n",
    "\n",
    "These functions are VERY helpful when it comes to managing users in the API."
   ]
  },
  {
   "cell_type": "code",
   "execution_count": 10,
   "metadata": {},
   "outputs": [],
   "source": [
    "@bot.event\n",
    "async def on_ready():\n",
    "    bot.titan = bot.get_user(847989667088564244)\n",
    "    bot.adminChat = bot.get_channel(764867760957947934)\n",
    "    print(f'{bot.user.name} has connected to Discord!')\n",
    "\n",
    "# Helper Functions -----------------------------------------------------------------\n",
    "def getAllUsers():\n",
    "    response = requests.get(USER_URL)\n",
    "    if response.status_code != 200:\n",
    "        return None\n",
    "    else:\n",
    "        jsonResponse = ast.literal_eval(str(response.json()))\n",
    "        return jsonResponse\n",
    "\n",
    "def getUserData(id):\n",
    "    url = USER_URL + \"/\" + str(id)\n",
    "    response = requests.get(url)\n",
    "    if response.status_code != 200:\n",
    "        return None\n",
    "    else:\n",
    "        jsonResponse = ast.literal_eval(str(response.json()))\n",
    "        return jsonResponse\n",
    "\n",
    "def getAllFactions():\n",
    "    response = requests.get(FACTION_URL)\n",
    "    if response.status_code != 200:\n",
    "        return None\n",
    "    else:\n",
    "        jsonResponse = ast.literal_eval(str(response.json()))\n",
    "        return jsonResponse\n",
    "\n",
    "def getUserFaction(id):\n",
    "    response = getAllFactions()\n",
    "    for x in response:\n",
    "        factionData = ast.literal_eval(str(x))\n",
    "        if ',' in factionData[\"factionMembers\"]:\n",
    "            members = str(factionData[\"factionMembers\"]).split(\",\")\n",
    "            for y in members:\n",
    "                if y == str(id):\n",
    "                    return factionData\n",
    "        else:\n",
    "            if factionData[\"factionMembers\"] == str(id):\n",
    "                return factionData\n",
    "\n",
    "def updateFaction(faction):\n",
    "    json = {\n",
    "        \"id\":faction[\"id\"],\n",
    "        \"factionName\":faction[\"factionName\"],\n",
    "        \"factionIncome\":faction[\"factionIncome\"],\n",
    "        \"factionMembers\":faction[\"factionMembers\"],\n",
    "        \"factionLandClaim\":faction[\"factionLandClaim\"],\n",
    "        \"factionLogo\":faction[\"factionLogo\"],\n",
    "        \"attack\":faction[\"attack\"],\n",
    "        \"defense\":faction[\"defense\"],\n",
    "        \"utility\":faction[\"utility\"],\n",
    "        \"balance\":faction[\"balance\"]\n",
    "        }\n",
    "    print(json)\n",
    "    response = requests.put(FACTION_URL+\"/\"+str(faction[\"id\"]),json=json)\n",
    "    return response"
   ]
  },
  {
   "cell_type": "markdown",
   "metadata": {},
   "source": [
    "## User Income\n",
    "---\n",
    "This function was a pain in the butt to get working properly.\n",
    "\n",
    "Overall, its pretty simple, its a function that is scheduled to run every hour, and gets all the users that are in a faction, and adds the faction income to their token balance."
   ]
  },
  {
   "cell_type": "code",
   "execution_count": 11,
   "metadata": {},
   "outputs": [],
   "source": [
    "# User Income Update Function ----------------------------------------------\n",
    "from apscheduler.schedulers.background import BackgroundScheduler\n",
    "\n",
    "# Start the scheduler\n",
    "sched = BackgroundScheduler()\n",
    "\n",
    "def job_function():\n",
    "    users = getAllUsers()\n",
    "    for user in users:\n",
    "        faction = getUserFaction(user[\"id\"])\n",
    "        if faction != None:\n",
    "            amount = int(faction[\"factionIncome\"])\n",
    "            tokens = int(user[\"token\"]) + amount\n",
    "            jsonData = {\"id\": user[\"id\"], \"token\": tokens, \"date\": f\"{user['date']}\"}\n",
    "            print(jsonData)\n",
    "            response = requests.put(USER_URL + \"/\" + str(user[\"id\"]),json=jsonData)\n",
    "            if(response.status_code != 204):\n",
    "                print(f\"Something went wrong with adding Tokens to user's balance. Heres the error code: {response.status_code}\")\n",
    "         \n",
    "\n",
    "# Schedules job_function to be run once each hour\n",
    "minutes = 1\n",
    "hours = 1\n",
    "sched.add_job(job_function, 'interval', hours=hours)\n",
    "sched.start()"
   ]
  },
  {
   "cell_type": "markdown",
   "metadata": {},
   "source": [
    "## The Help Command\n",
    "---\n",
    "Ah yes, the humble help command. The first command that people use when looking to use a discord bot.\n",
    "\n",
    "Kirbo's is no different, and it lists (almost) all the commands that Kirbo has.\n",
    "Its also the first command that my friends helped me test.\n",
    "\n",
    "Pretty simple, makes a discord embed object, and adds all the commands to it, and prints it to the chat."
   ]
  },
  {
   "cell_type": "code",
   "execution_count": 12,
   "metadata": {},
   "outputs": [],
   "source": [
    "#Help Command --------------------------------------------------------------\n",
    "bot.remove_command('help')\n",
    "@bot.command(\"help\")\n",
    "async def help(ctx, comnd: str=None):\n",
    "    embed=discord.Embed(title=\"Kirbo Help\",description=\"This bot's prefix is ','\\nSome of the commands have aliases.\",color=PINK)\n",
    "    embed.add_field(name=\"Fun Commands\", value=\"about, poyo, roll, slap, shoot\",inline=False)\n",
    "    embed.add_field(name=\"Economy Commands\",value=\"balance, daily, store, buy, give\",inline=False)\n",
    "    embed.add_field(name=\"Faction Commands\",value=\"faction, createfaction, leavefaction, invite, deposit, factionstore\",inline=False)\n",
    "    embed.add_field(name=\"Debugging Commands\",value=\"testapi, shutdown\",inline=False)\n",
    "\n",
    "    await ctx.send(embed=embed)"
   ]
  },
  {
   "cell_type": "markdown",
   "metadata": {},
   "source": [
    "## Connecting to Discord\n",
    "---\n",
    "Yep. Thats all this singular line does."
   ]
  },
  {
   "cell_type": "code",
   "execution_count": null,
   "metadata": {},
   "outputs": [],
   "source": [
    "bot.run(TOKEN)"
   ]
  },
  {
   "cell_type": "markdown",
   "metadata": {},
   "source": [
    "# Full, Uninterupted Kirbo Code is in bot.py."
   ]
  }
 ],
 "metadata": {
  "interpreter": {
   "hash": "1efcd726b32cb16b16e2302664d99924a83e997d39d0e1a0c9820c0df619ba76"
  },
  "kernelspec": {
   "display_name": "Python 3.7.6 64-bit",
   "language": "python",
   "name": "python3"
  },
  "language_info": {
   "codemirror_mode": {
    "name": "ipython",
    "version": 3
   },
   "file_extension": ".py",
   "mimetype": "text/x-python",
   "name": "python",
   "nbconvert_exporter": "python",
   "pygments_lexer": "ipython3",
   "version": "3.7.6"
  },
  "orig_nbformat": 4
 },
 "nbformat": 4,
 "nbformat_minor": 2
}
